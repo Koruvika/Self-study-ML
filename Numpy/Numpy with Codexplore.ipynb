{
 "cells": [
  {
   "cell_type": "markdown",
   "id": "1c55975c",
   "metadata": {},
   "source": [
    "# Numpy "
   ]
  },
  {
   "cell_type": "code",
   "execution_count": 1,
   "id": "ccef87d3",
   "metadata": {},
   "outputs": [],
   "source": [
    "import numpy as np"
   ]
  },
  {
   "cell_type": "markdown",
   "id": "eaa8741c",
   "metadata": {},
   "source": [
    "## Creating Numpy Arrays "
   ]
  },
  {
   "cell_type": "code",
   "execution_count": 2,
   "id": "4616175b",
   "metadata": {},
   "outputs": [
    {
     "data": {
      "text/plain": [
       "array([1, 2, 3])"
      ]
     },
     "execution_count": 2,
     "metadata": {},
     "output_type": "execute_result"
    }
   ],
   "source": [
    "np.array([1, 2, 3])"
   ]
  },
  {
   "cell_type": "code",
   "execution_count": 3,
   "id": "58bc6788",
   "metadata": {},
   "outputs": [
    {
     "data": {
      "text/plain": [
       "array([3.14, 4.  , 3.  ])"
      ]
     },
     "execution_count": 3,
     "metadata": {},
     "output_type": "execute_result"
    }
   ],
   "source": [
    "np.array([3.14, 4, 3])"
   ]
  },
  {
   "cell_type": "code",
   "execution_count": 4,
   "id": "8076948b",
   "metadata": {},
   "outputs": [
    {
     "data": {
      "text/plain": [
       "array([3, 4, 5])"
      ]
     },
     "execution_count": 4,
     "metadata": {},
     "output_type": "execute_result"
    }
   ],
   "source": [
    "np.array([3.13, 4, 5], dtype = int)"
   ]
  },
  {
   "cell_type": "code",
   "execution_count": 5,
   "id": "1ab29657",
   "metadata": {},
   "outputs": [],
   "source": [
    "a1 = np.array([3.14, 2, 3])"
   ]
  },
  {
   "cell_type": "code",
   "execution_count": 6,
   "id": "36aee358",
   "metadata": {},
   "outputs": [
    {
     "data": {
      "text/plain": [
       "numpy.ndarray"
      ]
     },
     "execution_count": 6,
     "metadata": {},
     "output_type": "execute_result"
    }
   ],
   "source": [
    "type(a1)"
   ]
  },
  {
   "cell_type": "code",
   "execution_count": 14,
   "id": "e4f4a329",
   "metadata": {},
   "outputs": [
    {
     "data": {
      "text/plain": [
       "dtype('float64')"
      ]
     },
     "execution_count": 14,
     "metadata": {},
     "output_type": "execute_result"
    }
   ],
   "source": [
    "a1.dtype"
   ]
  },
  {
   "cell_type": "code",
   "execution_count": 10,
   "id": "169fa8d3",
   "metadata": {},
   "outputs": [],
   "source": [
    "a2 = np.array([[3.14, 4, 5], [1, 2, 3]]);"
   ]
  },
  {
   "cell_type": "code",
   "execution_count": 13,
   "id": "3519788e",
   "metadata": {},
   "outputs": [
    {
     "data": {
      "text/plain": [
       "(2, 3)"
      ]
     },
     "execution_count": 13,
     "metadata": {},
     "output_type": "execute_result"
    }
   ],
   "source": [
    "a2.shape"
   ]
  },
  {
   "cell_type": "code",
   "execution_count": 15,
   "id": "a13fe588",
   "metadata": {},
   "outputs": [
    {
     "data": {
      "text/plain": [
       "dtype('float64')"
      ]
     },
     "execution_count": 15,
     "metadata": {},
     "output_type": "execute_result"
    }
   ],
   "source": [
    "a2.dtype"
   ]
  },
  {
   "cell_type": "code",
   "execution_count": 18,
   "id": "3f0c9ff6",
   "metadata": {},
   "outputs": [
    {
     "data": {
      "text/plain": [
       "2"
      ]
     },
     "execution_count": 18,
     "metadata": {},
     "output_type": "execute_result"
    }
   ],
   "source": [
    "a2.ndim"
   ]
  },
  {
   "cell_type": "code",
   "execution_count": 20,
   "id": "305c5f31",
   "metadata": {},
   "outputs": [],
   "source": [
    "a3 = np.array([[[1, 2], [3, 4]], [[5, 6], [7,8]]])"
   ]
  },
  {
   "cell_type": "code",
   "execution_count": 21,
   "id": "33809bc5",
   "metadata": {},
   "outputs": [
    {
     "data": {
      "text/plain": [
       "3"
      ]
     },
     "execution_count": 21,
     "metadata": {},
     "output_type": "execute_result"
    }
   ],
   "source": [
    "a3.ndim"
   ]
  },
  {
   "cell_type": "code",
   "execution_count": 22,
   "id": "1a50485b",
   "metadata": {},
   "outputs": [
    {
     "data": {
      "text/plain": [
       "(2, 2, 2)"
      ]
     },
     "execution_count": 22,
     "metadata": {},
     "output_type": "execute_result"
    }
   ],
   "source": [
    "a3.shape"
   ]
  },
  {
   "cell_type": "markdown",
   "id": "7cc03a9c",
   "metadata": {},
   "source": [
    "## Creative numpy arrays from Scratch"
   ]
  },
  {
   "cell_type": "markdown",
   "id": "44efd22d",
   "metadata": {},
   "source": [
    "### `zeros` `ones` `full` `arange` `linspace`"
   ]
  },
  {
   "cell_type": "code",
   "execution_count": 23,
   "id": "b5ca53bb",
   "metadata": {},
   "outputs": [],
   "source": [
    "a0 = np.zeros((3, 3, 3))"
   ]
  },
  {
   "cell_type": "code",
   "execution_count": 24,
   "id": "8cf6de0e",
   "metadata": {},
   "outputs": [
    {
     "data": {
      "text/plain": [
       "array([[[0., 0., 0.],\n",
       "        [0., 0., 0.],\n",
       "        [0., 0., 0.]],\n",
       "\n",
       "       [[0., 0., 0.],\n",
       "        [0., 0., 0.],\n",
       "        [0., 0., 0.]],\n",
       "\n",
       "       [[0., 0., 0.],\n",
       "        [0., 0., 0.],\n",
       "        [0., 0., 0.]]])"
      ]
     },
     "execution_count": 24,
     "metadata": {},
     "output_type": "execute_result"
    }
   ],
   "source": [
    "a0"
   ]
  },
  {
   "cell_type": "code",
   "execution_count": 25,
   "id": "6e6cdb40",
   "metadata": {},
   "outputs": [],
   "source": [
    "a1 = np.ones([2,3])"
   ]
  },
  {
   "cell_type": "code",
   "execution_count": 28,
   "id": "60fc8bfd",
   "metadata": {},
   "outputs": [
    {
     "data": {
      "text/plain": [
       "array([[1., 1., 1.],\n",
       "       [1., 1., 1.]])"
      ]
     },
     "execution_count": 28,
     "metadata": {},
     "output_type": "execute_result"
    }
   ],
   "source": [
    "a1"
   ]
  },
  {
   "cell_type": "code",
   "execution_count": 30,
   "id": "0db1fa5e",
   "metadata": {},
   "outputs": [],
   "source": [
    "af = np.full((1,3), 2)"
   ]
  },
  {
   "cell_type": "code",
   "execution_count": 31,
   "id": "08a7cd24",
   "metadata": {},
   "outputs": [
    {
     "data": {
      "text/plain": [
       "array([[2, 2, 2]])"
      ]
     },
     "execution_count": 31,
     "metadata": {},
     "output_type": "execute_result"
    }
   ],
   "source": [
    "af"
   ]
  },
  {
   "cell_type": "code",
   "execution_count": 34,
   "id": "68b347cc",
   "metadata": {},
   "outputs": [],
   "source": [
    "aa = np.arange(2, 10, 2)"
   ]
  },
  {
   "cell_type": "code",
   "execution_count": 35,
   "id": "8b678195",
   "metadata": {},
   "outputs": [
    {
     "data": {
      "text/plain": [
       "array([2, 4, 6, 8])"
      ]
     },
     "execution_count": 35,
     "metadata": {},
     "output_type": "execute_result"
    }
   ],
   "source": [
    "aa"
   ]
  },
  {
   "cell_type": "code",
   "execution_count": 36,
   "id": "17aa1037",
   "metadata": {},
   "outputs": [],
   "source": [
    "al = np.linspace(0,1, 5)"
   ]
  },
  {
   "cell_type": "code",
   "execution_count": 37,
   "id": "7316d65b",
   "metadata": {},
   "outputs": [
    {
     "data": {
      "text/plain": [
       "array([0.  , 0.25, 0.5 , 0.75, 1.  ])"
      ]
     },
     "execution_count": 37,
     "metadata": {},
     "output_type": "execute_result"
    }
   ],
   "source": [
    "al"
   ]
  },
  {
   "cell_type": "markdown",
   "id": "c8056e26",
   "metadata": {},
   "source": [
    "### `random`"
   ]
  },
  {
   "cell_type": "code",
   "execution_count": 42,
   "id": "1e04aabe",
   "metadata": {},
   "outputs": [
    {
     "data": {
      "text/plain": [
       "array([[0.67599119, 0.93658354]])"
      ]
     },
     "execution_count": 42,
     "metadata": {},
     "output_type": "execute_result"
    }
   ],
   "source": [
    "np.random.random([1,2])"
   ]
  },
  {
   "cell_type": "code",
   "execution_count": 44,
   "id": "93985447",
   "metadata": {},
   "outputs": [
    {
     "data": {
      "text/plain": [
       "array([[0.46512088, 0.2933221 ]])"
      ]
     },
     "execution_count": 44,
     "metadata": {},
     "output_type": "execute_result"
    }
   ],
   "source": [
    "np.random.random([1,2])"
   ]
  },
  {
   "cell_type": "code",
   "execution_count": 54,
   "id": "81d11b4f",
   "metadata": {},
   "outputs": [
    {
     "data": {
      "text/plain": [
       "array([[0.77132064, 0.02075195, 0.63364823],\n",
       "       [0.74880388, 0.49850701, 0.22479665]])"
      ]
     },
     "execution_count": 54,
     "metadata": {},
     "output_type": "execute_result"
    }
   ],
   "source": [
    "np.random.seed(10)\n",
    "np.random.random((2,3))"
   ]
  },
  {
   "cell_type": "code",
   "execution_count": 57,
   "id": "c8b05ca7",
   "metadata": {},
   "outputs": [
    {
     "data": {
      "text/plain": [
       "array([[ 0.13513688,  1.484537  , -1.07980489],\n",
       "       [-1.97772828, -1.7433723 ,  0.26607016],\n",
       "       [ 2.38496733,  1.12369125,  1.67262221]])"
      ]
     },
     "execution_count": 57,
     "metadata": {},
     "output_type": "execute_result"
    }
   ],
   "source": [
    "np.random.normal(0,1,(3,3))"
   ]
  },
  {
   "cell_type": "code",
   "execution_count": 58,
   "id": "bd9fc9b7",
   "metadata": {},
   "outputs": [
    {
     "data": {
      "text/plain": [
       "array([[[23, 94, 11],\n",
       "        [28, 74, 88],\n",
       "        [ 9, 15, 18]],\n",
       "\n",
       "       [[80, 71, 88],\n",
       "        [11, 17, 46],\n",
       "        [ 7, 75, 28]],\n",
       "\n",
       "       [[33, 84, 96],\n",
       "        [88, 44,  5],\n",
       "        [ 4, 71, 88]]])"
      ]
     },
     "execution_count": 58,
     "metadata": {},
     "output_type": "execute_result"
    }
   ],
   "source": [
    "np.random.randint(0, 100, [3,3,3])"
   ]
  },
  {
   "cell_type": "code",
   "execution_count": 60,
   "id": "d660a4cb",
   "metadata": {},
   "outputs": [
    {
     "data": {
      "text/plain": [
       "array([[[[0.15115202, 0.38411445],\n",
       "         [0.94426071, 0.98762547]],\n",
       "\n",
       "        [[0.45630455, 0.82612284],\n",
       "         [0.25137413, 0.59737165]]],\n",
       "\n",
       "\n",
       "       [[[0.90283176, 0.53455795],\n",
       "         [0.59020136, 0.03928177]],\n",
       "\n",
       "        [[0.35718176, 0.07961309],\n",
       "         [0.30545992, 0.33071931]]]])"
      ]
     },
     "execution_count": 60,
     "metadata": {},
     "output_type": "execute_result"
    }
   ],
   "source": [
    "np.random.rand(2,2,2,2)"
   ]
  },
  {
   "cell_type": "markdown",
   "id": "849e2077",
   "metadata": {},
   "source": [
    "# Array indexing & Slicing"
   ]
  },
  {
   "cell_type": "markdown",
   "id": "5e403972",
   "metadata": {},
   "source": [
    "## One-dimension array\n"
   ]
  },
  {
   "cell_type": "code",
   "execution_count": 63,
   "id": "83ef6cf9",
   "metadata": {},
   "outputs": [],
   "source": [
    "x = np.random.randint(20, size = 6)"
   ]
  },
  {
   "cell_type": "code",
   "execution_count": 66,
   "id": "440f20a6",
   "metadata": {},
   "outputs": [
    {
     "data": {
      "text/plain": [
       "array([14, 16, 10, 17,  0, 17])"
      ]
     },
     "execution_count": 66,
     "metadata": {},
     "output_type": "execute_result"
    }
   ],
   "source": [
    "x"
   ]
  },
  {
   "cell_type": "code",
   "execution_count": 67,
   "id": "40158628",
   "metadata": {},
   "outputs": [
    {
     "data": {
      "text/plain": [
       "16"
      ]
     },
     "execution_count": 67,
     "metadata": {},
     "output_type": "execute_result"
    }
   ],
   "source": [
    "x[1]"
   ]
  },
  {
   "cell_type": "code",
   "execution_count": 68,
   "id": "54e04220",
   "metadata": {},
   "outputs": [
    {
     "data": {
      "text/plain": [
       "10"
      ]
     },
     "execution_count": 68,
     "metadata": {},
     "output_type": "execute_result"
    }
   ],
   "source": [
    "x[2]"
   ]
  },
  {
   "cell_type": "code",
   "execution_count": 69,
   "id": "ccd1dc30",
   "metadata": {},
   "outputs": [
    {
     "data": {
      "text/plain": [
       "17"
      ]
     },
     "execution_count": 69,
     "metadata": {},
     "output_type": "execute_result"
    }
   ],
   "source": [
    "x[-1]"
   ]
  },
  {
   "cell_type": "code",
   "execution_count": 72,
   "id": "622966cc",
   "metadata": {},
   "outputs": [
    {
     "data": {
      "text/plain": [
       "array([14, 16, 10, 17,  0])"
      ]
     },
     "execution_count": 72,
     "metadata": {},
     "output_type": "execute_result"
    }
   ],
   "source": [
    "x[0:-1]"
   ]
  },
  {
   "cell_type": "code",
   "execution_count": null,
   "id": "220c789f",
   "metadata": {},
   "outputs": [],
   "source": []
  },
  {
   "cell_type": "markdown",
   "id": "ae3e6c31",
   "metadata": {},
   "source": [
    "## Multi-dimension array"
   ]
  },
  {
   "cell_type": "code",
   "execution_count": 74,
   "id": "b194c6d0",
   "metadata": {},
   "outputs": [],
   "source": [
    "x2 = np.random.randint(0, 20, [3,3])"
   ]
  },
  {
   "cell_type": "code",
   "execution_count": 75,
   "id": "4de902a4",
   "metadata": {},
   "outputs": [
    {
     "data": {
      "text/plain": [
       "array([[ 9, 16,  9],\n",
       "       [12, 18, 17],\n",
       "       [17, 16,  0]])"
      ]
     },
     "execution_count": 75,
     "metadata": {},
     "output_type": "execute_result"
    }
   ],
   "source": [
    "x2"
   ]
  },
  {
   "cell_type": "code",
   "execution_count": 76,
   "id": "9acc8c94",
   "metadata": {},
   "outputs": [
    {
     "data": {
      "text/plain": [
       "17"
      ]
     },
     "execution_count": 76,
     "metadata": {},
     "output_type": "execute_result"
    }
   ],
   "source": [
    "x2[1,2]"
   ]
  },
  {
   "cell_type": "code",
   "execution_count": 77,
   "id": "15cf4175",
   "metadata": {},
   "outputs": [],
   "source": [
    "x2[1,2] = x2[1,2] +1"
   ]
  },
  {
   "cell_type": "code",
   "execution_count": 78,
   "id": "2fcf5bef",
   "metadata": {},
   "outputs": [
    {
     "data": {
      "text/plain": [
       "array([[ 9, 16,  9],\n",
       "       [12, 18, 18],\n",
       "       [17, 16,  0]])"
      ]
     },
     "execution_count": 78,
     "metadata": {},
     "output_type": "execute_result"
    }
   ],
   "source": [
    "x2"
   ]
  },
  {
   "cell_type": "markdown",
   "id": "58e28efb",
   "metadata": {},
   "source": [
    "### Slicing"
   ]
  },
  {
   "cell_type": "code",
   "execution_count": 80,
   "id": "b306077d",
   "metadata": {},
   "outputs": [
    {
     "data": {
      "text/plain": [
       "array([14, 16, 10, 17,  0])"
      ]
     },
     "execution_count": 80,
     "metadata": {},
     "output_type": "execute_result"
    }
   ],
   "source": [
    "x[0: 5]"
   ]
  },
  {
   "cell_type": "code",
   "execution_count": 81,
   "id": "3202685c",
   "metadata": {},
   "outputs": [
    {
     "data": {
      "text/plain": [
       "array([14, 10,  0])"
      ]
     },
     "execution_count": 81,
     "metadata": {},
     "output_type": "execute_result"
    }
   ],
   "source": [
    "x[0:-1:2]"
   ]
  },
  {
   "cell_type": "code",
   "execution_count": 82,
   "id": "af11ce3f",
   "metadata": {},
   "outputs": [
    {
     "data": {
      "text/plain": [
       "array([14, 16, 10, 17,  0, 17])"
      ]
     },
     "execution_count": 82,
     "metadata": {},
     "output_type": "execute_result"
    }
   ],
   "source": [
    "x[:]"
   ]
  },
  {
   "cell_type": "code",
   "execution_count": 83,
   "id": "eff4d285",
   "metadata": {},
   "outputs": [
    {
     "data": {
      "text/plain": [
       "array([17,  0, 17, 10, 16, 14])"
      ]
     },
     "execution_count": 83,
     "metadata": {},
     "output_type": "execute_result"
    }
   ],
   "source": [
    "x[::-1]"
   ]
  },
  {
   "cell_type": "code",
   "execution_count": 84,
   "id": "14e8139f",
   "metadata": {},
   "outputs": [
    {
     "data": {
      "text/plain": [
       "array([[ 9, 16,  9],\n",
       "       [12, 18, 18],\n",
       "       [17, 16,  0]])"
      ]
     },
     "execution_count": 84,
     "metadata": {},
     "output_type": "execute_result"
    }
   ],
   "source": [
    "x2"
   ]
  },
  {
   "cell_type": "code",
   "execution_count": 90,
   "id": "5d4517af",
   "metadata": {},
   "outputs": [
    {
     "data": {
      "text/plain": [
       "array([[ 9],\n",
       "       [18]])"
      ]
     },
     "execution_count": 90,
     "metadata": {},
     "output_type": "execute_result"
    }
   ],
   "source": [
    "x2[:2,:1:-1]"
   ]
  },
  {
   "cell_type": "markdown",
   "id": "9cc8f7c8",
   "metadata": {},
   "source": [
    "## Reshaping array & Transpose"
   ]
  },
  {
   "cell_type": "code",
   "execution_count": 91,
   "id": "f8b8aacd",
   "metadata": {},
   "outputs": [],
   "source": [
    "grid = np.random.randint(1, 20, size = 9)"
   ]
  },
  {
   "cell_type": "code",
   "execution_count": 92,
   "id": "5660de83",
   "metadata": {},
   "outputs": [
    {
     "data": {
      "text/plain": [
       "array([ 6, 10,  1,  7,  1,  3,  4,  4, 19])"
      ]
     },
     "execution_count": 92,
     "metadata": {},
     "output_type": "execute_result"
    }
   ],
   "source": [
    "grid"
   ]
  },
  {
   "cell_type": "code",
   "execution_count": 96,
   "id": "9a6a0c7b",
   "metadata": {},
   "outputs": [],
   "source": [
    "grid = grid.reshape((3, 3))"
   ]
  },
  {
   "cell_type": "code",
   "execution_count": 95,
   "id": "0c41d341",
   "metadata": {},
   "outputs": [
    {
     "data": {
      "text/plain": [
       "array([[ 6, 10,  1],\n",
       "       [ 7,  1,  3],\n",
       "       [ 4,  4, 19]])"
      ]
     },
     "execution_count": 95,
     "metadata": {},
     "output_type": "execute_result"
    }
   ],
   "source": [
    "grid"
   ]
  },
  {
   "cell_type": "code",
   "execution_count": 98,
   "id": "3778a0c2",
   "metadata": {},
   "outputs": [
    {
     "data": {
      "text/plain": [
       "array([[ 6,  7,  4],\n",
       "       [10,  1,  4],\n",
       "       [ 1,  3, 19]])"
      ]
     },
     "execution_count": 98,
     "metadata": {},
     "output_type": "execute_result"
    }
   ],
   "source": [
    "grid.T"
   ]
  },
  {
   "cell_type": "markdown",
   "id": "e180fb4a",
   "metadata": {},
   "source": [
    "## Array Concatenation & Splitting"
   ]
  },
  {
   "cell_type": "code",
   "execution_count": 99,
   "id": "8589f744",
   "metadata": {},
   "outputs": [],
   "source": [
    "x = np.random.randint(1, 20, 3)"
   ]
  },
  {
   "cell_type": "code",
   "execution_count": 100,
   "id": "641e1fc5",
   "metadata": {},
   "outputs": [],
   "source": [
    "y = np.random.randint(1, 20, 3)"
   ]
  },
  {
   "cell_type": "code",
   "execution_count": 104,
   "id": "04bf328f",
   "metadata": {},
   "outputs": [
    {
     "data": {
      "text/plain": [
       "array([14, 12, 17, 14, 12, 18])"
      ]
     },
     "execution_count": 104,
     "metadata": {},
     "output_type": "execute_result"
    }
   ],
   "source": [
    "np.concatenate((x,y), axis = 0)"
   ]
  },
  {
   "cell_type": "code",
   "execution_count": 112,
   "id": "3bd96568",
   "metadata": {},
   "outputs": [],
   "source": [
    "x2 = np.random.randint(1, 20, (1,3))"
   ]
  },
  {
   "cell_type": "code",
   "execution_count": 113,
   "id": "b6267e5a",
   "metadata": {},
   "outputs": [],
   "source": [
    "y2 = np.random.randint(1, 20, (2,3))"
   ]
  },
  {
   "cell_type": "code",
   "execution_count": 115,
   "id": "80a518c8",
   "metadata": {},
   "outputs": [
    {
     "data": {
      "text/plain": [
       "array([[10,  2,  5],\n",
       "       [ 8,  8, 10],\n",
       "       [ 8,  1,  4]])"
      ]
     },
     "execution_count": 115,
     "metadata": {},
     "output_type": "execute_result"
    }
   ],
   "source": [
    "np.concatenate((x2,y2), axis = 0)"
   ]
  },
  {
   "cell_type": "markdown",
   "id": "3db61f8b",
   "metadata": {},
   "source": [
    "`vstack`"
   ]
  },
  {
   "cell_type": "code",
   "execution_count": 118,
   "id": "dd37f3b6",
   "metadata": {},
   "outputs": [
    {
     "data": {
      "text/plain": [
       "array([[10,  2,  5],\n",
       "       [ 8,  8, 10],\n",
       "       [ 8,  1,  4]])"
      ]
     },
     "execution_count": 118,
     "metadata": {},
     "output_type": "execute_result"
    }
   ],
   "source": [
    "np.vstack((x2, y2))"
   ]
  },
  {
   "cell_type": "markdown",
   "id": "b9a448b2",
   "metadata": {},
   "source": [
    "  `hstack`"
   ]
  },
  {
   "cell_type": "code",
   "execution_count": 121,
   "id": "00a40808",
   "metadata": {},
   "outputs": [],
   "source": [
    "a = np.random.randint(1, 20, (3,2))"
   ]
  },
  {
   "cell_type": "code",
   "execution_count": 122,
   "id": "b9a65e2a",
   "metadata": {},
   "outputs": [],
   "source": [
    "b = np.random.randint(1,20, (3,4))"
   ]
  },
  {
   "cell_type": "code",
   "execution_count": 123,
   "id": "a9c6dad9",
   "metadata": {},
   "outputs": [
    {
     "data": {
      "text/plain": [
       "array([[10, 13, 10,  3,  2, 18],\n",
       "       [ 5,  7,  7, 11, 14, 12],\n",
       "       [15, 11,  6, 16, 17, 11]])"
      ]
     },
     "execution_count": 123,
     "metadata": {},
     "output_type": "execute_result"
    }
   ],
   "source": [
    "np.hstack((a,b))"
   ]
  },
  {
   "cell_type": "markdown",
   "id": "94c3bb45",
   "metadata": {},
   "source": [
    "### Splitting"
   ]
  },
  {
   "cell_type": "code",
   "execution_count": 124,
   "id": "34260b43",
   "metadata": {},
   "outputs": [],
   "source": [
    "x = np.array([1,2,3,99,69,3,2,1])\n",
    "x1,x2,x3 = np.split(x,(3,5))"
   ]
  },
  {
   "cell_type": "code",
   "execution_count": 126,
   "id": "95ac490b",
   "metadata": {},
   "outputs": [
    {
     "data": {
      "text/plain": [
       "(array([1, 2, 3]), array([99, 69]), array([3, 2, 1]))"
      ]
     },
     "execution_count": 126,
     "metadata": {},
     "output_type": "execute_result"
    }
   ],
   "source": [
    "x1,x2,x3"
   ]
  },
  {
   "cell_type": "markdown",
   "id": "ae50cbfe",
   "metadata": {},
   "source": [
    "## Broadcasting & Vectorized Operations"
   ]
  },
  {
   "cell_type": "code",
   "execution_count": 127,
   "id": "947044c5",
   "metadata": {},
   "outputs": [
    {
     "data": {
      "text/plain": [
       "array([5, 6, 7])"
      ]
     },
     "execution_count": 127,
     "metadata": {},
     "output_type": "execute_result"
    }
   ],
   "source": [
    "x = np.arange(3) + 5\n",
    "x"
   ]
  },
  {
   "cell_type": "code",
   "execution_count": 130,
   "id": "c90d0840",
   "metadata": {},
   "outputs": [
    {
     "data": {
      "text/plain": [
       "array([[1., 2., 3.],\n",
       "       [1., 2., 3.],\n",
       "       [1., 2., 3.]])"
      ]
     },
     "execution_count": 130,
     "metadata": {},
     "output_type": "execute_result"
    }
   ],
   "source": [
    "np.ones((3,3)) + np.arange(3)"
   ]
  },
  {
   "cell_type": "code",
   "execution_count": 134,
   "id": "dd6afd92",
   "metadata": {},
   "outputs": [
    {
     "data": {
      "text/plain": [
       "array([[0, 0, 0],\n",
       "       [0, 1, 2],\n",
       "       [0, 2, 4]])"
      ]
     },
     "execution_count": 134,
     "metadata": {},
     "output_type": "execute_result"
    }
   ],
   "source": [
    "np.arange(3).reshape((3,1)) * np.arange(3)"
   ]
  },
  {
   "cell_type": "code",
   "execution_count": 146,
   "id": "91cfe0a2",
   "metadata": {},
   "outputs": [],
   "source": [
    "a = np.random.randint(1, 20, [1, 3])\n",
    "b = np.random.randint(1, 20, [3, 1])"
   ]
  },
  {
   "cell_type": "code",
   "execution_count": 147,
   "id": "4164817f",
   "metadata": {},
   "outputs": [],
   "source": [
    "x = a*b"
   ]
  },
  {
   "cell_type": "code",
   "execution_count": 148,
   "id": "61e3b7bd",
   "metadata": {},
   "outputs": [
    {
     "data": {
      "text/plain": [
       "array([[18,  2, 12]])"
      ]
     },
     "execution_count": 148,
     "metadata": {},
     "output_type": "execute_result"
    }
   ],
   "source": [
    "a"
   ]
  },
  {
   "cell_type": "code",
   "execution_count": 149,
   "id": "fcbeea34",
   "metadata": {},
   "outputs": [
    {
     "data": {
      "text/plain": [
       "array([[15],\n",
       "       [11],\n",
       "       [16]])"
      ]
     },
     "execution_count": 149,
     "metadata": {},
     "output_type": "execute_result"
    }
   ],
   "source": [
    "b"
   ]
  },
  {
   "cell_type": "code",
   "execution_count": 150,
   "id": "afbfeea8",
   "metadata": {},
   "outputs": [
    {
     "data": {
      "text/plain": [
       "array([[270,  30, 180],\n",
       "       [198,  22, 132],\n",
       "       [288,  32, 192]])"
      ]
     },
     "execution_count": 150,
     "metadata": {},
     "output_type": "execute_result"
    }
   ],
   "source": [
    "x"
   ]
  },
  {
   "cell_type": "markdown",
   "id": "8a71f1d6",
   "metadata": {},
   "source": [
    "## Manipulating & Comparing Arrays"
   ]
  },
  {
   "cell_type": "markdown",
   "id": "2397b4f7",
   "metadata": {},
   "source": [
    "### Aggregation"
   ]
  },
  {
   "cell_type": "code",
   "execution_count": 151,
   "id": "0a301ee8",
   "metadata": {},
   "outputs": [],
   "source": [
    "list_number = [1,2,3]"
   ]
  },
  {
   "cell_type": "code",
   "execution_count": 152,
   "id": "fdc23ae6",
   "metadata": {},
   "outputs": [],
   "source": [
    "ll = np.array([list_number])"
   ]
  },
  {
   "cell_type": "code",
   "execution_count": 153,
   "id": "efb8223b",
   "metadata": {},
   "outputs": [
    {
     "data": {
      "text/plain": [
       "array([[1, 2, 3]])"
      ]
     },
     "execution_count": 153,
     "metadata": {},
     "output_type": "execute_result"
    }
   ],
   "source": [
    "ll"
   ]
  },
  {
   "cell_type": "code",
   "execution_count": 154,
   "id": "08d4e14d",
   "metadata": {},
   "outputs": [
    {
     "data": {
      "text/plain": [
       "6"
      ]
     },
     "execution_count": 154,
     "metadata": {},
     "output_type": "execute_result"
    }
   ],
   "source": [
    "sum(list_number)"
   ]
  },
  {
   "cell_type": "code",
   "execution_count": 155,
   "id": "330c5c7b",
   "metadata": {},
   "outputs": [
    {
     "data": {
      "text/plain": [
       "6"
      ]
     },
     "execution_count": 155,
     "metadata": {},
     "output_type": "execute_result"
    }
   ],
   "source": [
    "np.sum(ll)"
   ]
  },
  {
   "cell_type": "code",
   "execution_count": 172,
   "id": "8586976e",
   "metadata": {},
   "outputs": [],
   "source": [
    "mass = np.random.random(10000)"
   ]
  },
  {
   "cell_type": "code",
   "execution_count": 173,
   "id": "e75b313d",
   "metadata": {},
   "outputs": [
    {
     "data": {
      "text/plain": [
       "(10000,)"
      ]
     },
     "execution_count": 173,
     "metadata": {},
     "output_type": "execute_result"
    }
   ],
   "source": [
    "mass.shape"
   ]
  },
  {
   "cell_type": "code",
   "execution_count": 174,
   "id": "fad3403b",
   "metadata": {},
   "outputs": [
    {
     "name": "stdout",
     "output_type": "stream",
     "text": [
      "1.19 ms ± 87.5 µs per loop (mean ± std. dev. of 7 runs, 1000 loops each)\n",
      "13.6 µs ± 129 ns per loop (mean ± std. dev. of 7 runs, 100000 loops each)\n"
     ]
    }
   ],
   "source": [
    "%timeit sum(mass)\n",
    "%timeit np.sum(mass)"
   ]
  },
  {
   "cell_type": "code",
   "execution_count": 175,
   "id": "1be7c916",
   "metadata": {},
   "outputs": [
    {
     "data": {
      "text/plain": [
       "0.5007279640900326"
      ]
     },
     "execution_count": 175,
     "metadata": {},
     "output_type": "execute_result"
    }
   ],
   "source": [
    "np.mean(mass)"
   ]
  },
  {
   "cell_type": "code",
   "execution_count": 176,
   "id": "24afb1e0",
   "metadata": {},
   "outputs": [
    {
     "data": {
      "text/plain": [
       "6.883102653554296e-05"
      ]
     },
     "execution_count": 176,
     "metadata": {},
     "output_type": "execute_result"
    }
   ],
   "source": [
    "np.min(mass)"
   ]
  },
  {
   "cell_type": "code",
   "execution_count": 177,
   "id": "d8ca6ed8",
   "metadata": {},
   "outputs": [
    {
     "data": {
      "text/plain": [
       "0.9998581926431869"
      ]
     },
     "execution_count": 177,
     "metadata": {},
     "output_type": "execute_result"
    }
   ],
   "source": [
    "np.max(mass)"
   ]
  },
  {
   "cell_type": "markdown",
   "id": "e26c527c",
   "metadata": {},
   "source": [
    "## Standard Deviation & Variance"
   ]
  },
  {
   "cell_type": "code",
   "execution_count": 178,
   "id": "4664355b",
   "metadata": {},
   "outputs": [
    {
     "data": {
      "text/plain": [
       "0.29111390236211016"
      ]
     },
     "execution_count": 178,
     "metadata": {},
     "output_type": "execute_result"
    }
   ],
   "source": [
    "np.std(mass)"
   ]
  },
  {
   "cell_type": "code",
   "execution_count": 179,
   "id": "71ed62e3",
   "metadata": {},
   "outputs": [
    {
     "data": {
      "text/plain": [
       "0.08474730414849621"
      ]
     },
     "execution_count": 179,
     "metadata": {},
     "output_type": "execute_result"
    }
   ],
   "source": [
    "np.var(mass)"
   ]
  },
  {
   "cell_type": "code",
   "execution_count": 180,
   "id": "8ca19dab",
   "metadata": {},
   "outputs": [
    {
     "data": {
      "text/plain": [
       "0.29111390236211016"
      ]
     },
     "execution_count": 180,
     "metadata": {},
     "output_type": "execute_result"
    }
   ],
   "source": [
    "np.sqrt(np.var(mass))"
   ]
  },
  {
   "cell_type": "markdown",
   "id": "52ae419b",
   "metadata": {},
   "source": [
    "## Sorting Arrays"
   ]
  },
  {
   "cell_type": "code",
   "execution_count": 181,
   "id": "36c85042",
   "metadata": {},
   "outputs": [],
   "source": [
    "x = np.array([4,3,2,5,1])"
   ]
  },
  {
   "cell_type": "code",
   "execution_count": 182,
   "id": "47d303f9",
   "metadata": {},
   "outputs": [
    {
     "data": {
      "text/plain": [
       "array([1, 2, 3, 4, 5])"
      ]
     },
     "execution_count": 182,
     "metadata": {},
     "output_type": "execute_result"
    }
   ],
   "source": [
    "np.sort(x)"
   ]
  },
  {
   "cell_type": "code",
   "execution_count": 184,
   "id": "7d9bfc57",
   "metadata": {},
   "outputs": [
    {
     "data": {
      "text/plain": [
       "array([4, 2, 1, 0, 3], dtype=int64)"
      ]
     },
     "execution_count": 184,
     "metadata": {},
     "output_type": "execute_result"
    }
   ],
   "source": [
    "np.argsort(x)"
   ]
  },
  {
   "cell_type": "markdown",
   "id": "58f03cce",
   "metadata": {},
   "source": [
    "## Sorting along columns or rows"
   ]
  },
  {
   "cell_type": "code",
   "execution_count": 186,
   "id": "d313d006",
   "metadata": {},
   "outputs": [],
   "source": [
    "MatA = np.random.randint(0, 10, [4,6])\n"
   ]
  },
  {
   "cell_type": "code",
   "execution_count": 187,
   "id": "37dbcb59",
   "metadata": {},
   "outputs": [
    {
     "data": {
      "text/plain": [
       "array([[9, 3, 9, 0, 2, 1],\n",
       "       [0, 3, 4, 5, 6, 6],\n",
       "       [6, 5, 8, 6, 2, 6],\n",
       "       [8, 4, 1, 9, 0, 1]])"
      ]
     },
     "execution_count": 187,
     "metadata": {},
     "output_type": "execute_result"
    }
   ],
   "source": [
    "MatA"
   ]
  },
  {
   "cell_type": "code",
   "execution_count": 188,
   "id": "b38fdcc1",
   "metadata": {},
   "outputs": [
    {
     "data": {
      "text/plain": [
       "array([[0, 3, 1, 0, 0, 1],\n",
       "       [6, 3, 4, 5, 2, 1],\n",
       "       [8, 4, 8, 6, 2, 6],\n",
       "       [9, 5, 9, 9, 6, 6]])"
      ]
     },
     "execution_count": 188,
     "metadata": {},
     "output_type": "execute_result"
    }
   ],
   "source": [
    "np.sort(MatA, axis = 0)"
   ]
  },
  {
   "cell_type": "code",
   "execution_count": 189,
   "id": "9ea5880c",
   "metadata": {},
   "outputs": [
    {
     "data": {
      "text/plain": [
       "array([[0, 1, 2, 3, 9, 9],\n",
       "       [0, 3, 4, 5, 6, 6],\n",
       "       [2, 5, 6, 6, 6, 8],\n",
       "       [0, 1, 1, 4, 8, 9]])"
      ]
     },
     "execution_count": 189,
     "metadata": {},
     "output_type": "execute_result"
    }
   ],
   "source": [
    "np.sort(MatA, axis = 1)"
   ]
  },
  {
   "cell_type": "markdown",
   "id": "d46608c2",
   "metadata": {},
   "source": [
    "## Linear Algebra"
   ]
  },
  {
   "cell_type": "code",
   "execution_count": 195,
   "id": "85b2b50d",
   "metadata": {},
   "outputs": [],
   "source": [
    "a = np.arange(1, 10).reshape((3,3))"
   ]
  },
  {
   "cell_type": "code",
   "execution_count": 196,
   "id": "0d798b7a",
   "metadata": {},
   "outputs": [
    {
     "data": {
      "text/plain": [
       "array([[1, 2, 3],\n",
       "       [4, 5, 6],\n",
       "       [7, 8, 9]])"
      ]
     },
     "execution_count": 196,
     "metadata": {},
     "output_type": "execute_result"
    }
   ],
   "source": [
    "a"
   ]
  },
  {
   "cell_type": "code",
   "execution_count": 198,
   "id": "9c7780b8",
   "metadata": {},
   "outputs": [
    {
     "data": {
      "text/plain": [
       "array([[1, 2],\n",
       "       [3, 4],\n",
       "       [5, 6]])"
      ]
     },
     "execution_count": 198,
     "metadata": {},
     "output_type": "execute_result"
    }
   ],
   "source": [
    "b = np.arange(1,7).reshape(3,2)\n",
    "b"
   ]
  },
  {
   "cell_type": "code",
   "execution_count": 199,
   "id": "ebcdeffd",
   "metadata": {},
   "outputs": [
    {
     "data": {
      "text/plain": [
       "array([[ 22,  28],\n",
       "       [ 49,  64],\n",
       "       [ 76, 100]])"
      ]
     },
     "execution_count": 199,
     "metadata": {},
     "output_type": "execute_result"
    }
   ],
   "source": [
    "a.dot(b)"
   ]
  },
  {
   "cell_type": "code",
   "execution_count": 200,
   "id": "701aa72d",
   "metadata": {},
   "outputs": [
    {
     "data": {
      "text/plain": [
       "array([[ 22,  28],\n",
       "       [ 49,  64],\n",
       "       [ 76, 100]])"
      ]
     },
     "execution_count": 200,
     "metadata": {},
     "output_type": "execute_result"
    }
   ],
   "source": [
    "a @ b"
   ]
  },
  {
   "cell_type": "markdown",
   "id": "44742ca1",
   "metadata": {},
   "source": [
    "## Dot Product Example\n"
   ]
  },
  {
   "cell_type": "code",
   "execution_count": 204,
   "id": "a6490036",
   "metadata": {},
   "outputs": [],
   "source": [
    "np.random.seed(1)\n",
    "sales_amounts = np.random.randint(20, size = (5,3))"
   ]
  },
  {
   "cell_type": "code",
   "execution_count": 205,
   "id": "e8f78bdc",
   "metadata": {},
   "outputs": [
    {
     "data": {
      "text/plain": [
       "array([[ 5, 11, 12],\n",
       "       [ 8,  9, 11],\n",
       "       [ 5, 15,  0],\n",
       "       [16,  1, 12],\n",
       "       [ 7, 13,  6]])"
      ]
     },
     "execution_count": 205,
     "metadata": {},
     "output_type": "execute_result"
    }
   ],
   "source": [
    "sales_amounts"
   ]
  },
  {
   "cell_type": "code",
   "execution_count": 206,
   "id": "3fc797e3",
   "metadata": {},
   "outputs": [],
   "source": [
    "import pandas as pd"
   ]
  },
  {
   "cell_type": "code",
   "execution_count": 208,
   "id": "9d93c918",
   "metadata": {},
   "outputs": [],
   "source": [
    "weekly_sales = pd.DataFrame(sales_amounts, index = [\"Mon\", \"Tues\", \"Wed\", \"Thur\", \"Fri\"], columns = [\"Butter\", \"Cake\", \"Milk\"])"
   ]
  },
  {
   "cell_type": "code",
   "execution_count": 209,
   "id": "4befdfbe",
   "metadata": {
    "scrolled": true
   },
   "outputs": [
    {
     "data": {
      "text/html": [
       "<div>\n",
       "<style scoped>\n",
       "    .dataframe tbody tr th:only-of-type {\n",
       "        vertical-align: middle;\n",
       "    }\n",
       "\n",
       "    .dataframe tbody tr th {\n",
       "        vertical-align: top;\n",
       "    }\n",
       "\n",
       "    .dataframe thead th {\n",
       "        text-align: right;\n",
       "    }\n",
       "</style>\n",
       "<table border=\"1\" class=\"dataframe\">\n",
       "  <thead>\n",
       "    <tr style=\"text-align: right;\">\n",
       "      <th></th>\n",
       "      <th>Butter</th>\n",
       "      <th>Cake</th>\n",
       "      <th>Milk</th>\n",
       "    </tr>\n",
       "  </thead>\n",
       "  <tbody>\n",
       "    <tr>\n",
       "      <th>Mon</th>\n",
       "      <td>5</td>\n",
       "      <td>11</td>\n",
       "      <td>12</td>\n",
       "    </tr>\n",
       "    <tr>\n",
       "      <th>Tues</th>\n",
       "      <td>8</td>\n",
       "      <td>9</td>\n",
       "      <td>11</td>\n",
       "    </tr>\n",
       "    <tr>\n",
       "      <th>Wed</th>\n",
       "      <td>5</td>\n",
       "      <td>15</td>\n",
       "      <td>0</td>\n",
       "    </tr>\n",
       "    <tr>\n",
       "      <th>Thur</th>\n",
       "      <td>16</td>\n",
       "      <td>1</td>\n",
       "      <td>12</td>\n",
       "    </tr>\n",
       "    <tr>\n",
       "      <th>Fri</th>\n",
       "      <td>7</td>\n",
       "      <td>13</td>\n",
       "      <td>6</td>\n",
       "    </tr>\n",
       "  </tbody>\n",
       "</table>\n",
       "</div>"
      ],
      "text/plain": [
       "      Butter  Cake  Milk\n",
       "Mon        5    11    12\n",
       "Tues       8     9    11\n",
       "Wed        5    15     0\n",
       "Thur      16     1    12\n",
       "Fri        7    13     6"
      ]
     },
     "execution_count": 209,
     "metadata": {},
     "output_type": "execute_result"
    }
   ],
   "source": [
    "weekly_sales"
   ]
  },
  {
   "cell_type": "code",
   "execution_count": 213,
   "id": "09e5c672",
   "metadata": {},
   "outputs": [],
   "source": [
    "prices = np.array([5,10,3])"
   ]
  },
  {
   "cell_type": "code",
   "execution_count": 214,
   "id": "e55e4d4d",
   "metadata": {},
   "outputs": [],
   "source": [
    "Prices = pd.DataFrame(prices.reshape(1,3), index = [\"Price\"], columns = [\"Butter\", \"Cake\", \"Milk\"])"
   ]
  },
  {
   "cell_type": "code",
   "execution_count": 215,
   "id": "62f56fcf",
   "metadata": {},
   "outputs": [
    {
     "data": {
      "text/html": [
       "<div>\n",
       "<style scoped>\n",
       "    .dataframe tbody tr th:only-of-type {\n",
       "        vertical-align: middle;\n",
       "    }\n",
       "\n",
       "    .dataframe tbody tr th {\n",
       "        vertical-align: top;\n",
       "    }\n",
       "\n",
       "    .dataframe thead th {\n",
       "        text-align: right;\n",
       "    }\n",
       "</style>\n",
       "<table border=\"1\" class=\"dataframe\">\n",
       "  <thead>\n",
       "    <tr style=\"text-align: right;\">\n",
       "      <th></th>\n",
       "      <th>Butter</th>\n",
       "      <th>Cake</th>\n",
       "      <th>Milk</th>\n",
       "    </tr>\n",
       "  </thead>\n",
       "  <tbody>\n",
       "    <tr>\n",
       "      <th>Price</th>\n",
       "      <td>5</td>\n",
       "      <td>10</td>\n",
       "      <td>3</td>\n",
       "    </tr>\n",
       "  </tbody>\n",
       "</table>\n",
       "</div>"
      ],
      "text/plain": [
       "       Butter  Cake  Milk\n",
       "Price       5    10     3"
      ]
     },
     "execution_count": 215,
     "metadata": {},
     "output_type": "execute_result"
    }
   ],
   "source": [
    "Prices"
   ]
  },
  {
   "cell_type": "code",
   "execution_count": 218,
   "id": "43be2e7f",
   "metadata": {},
   "outputs": [],
   "source": [
    "weekly_sales[\"Total Price\"] = sales_amounts.dot(prices)"
   ]
  },
  {
   "cell_type": "code",
   "execution_count": 219,
   "id": "8e96176c",
   "metadata": {},
   "outputs": [
    {
     "data": {
      "text/html": [
       "<div>\n",
       "<style scoped>\n",
       "    .dataframe tbody tr th:only-of-type {\n",
       "        vertical-align: middle;\n",
       "    }\n",
       "\n",
       "    .dataframe tbody tr th {\n",
       "        vertical-align: top;\n",
       "    }\n",
       "\n",
       "    .dataframe thead th {\n",
       "        text-align: right;\n",
       "    }\n",
       "</style>\n",
       "<table border=\"1\" class=\"dataframe\">\n",
       "  <thead>\n",
       "    <tr style=\"text-align: right;\">\n",
       "      <th></th>\n",
       "      <th>Butter</th>\n",
       "      <th>Cake</th>\n",
       "      <th>Milk</th>\n",
       "      <th>total_price</th>\n",
       "      <th>Total Price</th>\n",
       "    </tr>\n",
       "  </thead>\n",
       "  <tbody>\n",
       "    <tr>\n",
       "      <th>Mon</th>\n",
       "      <td>5</td>\n",
       "      <td>11</td>\n",
       "      <td>12</td>\n",
       "      <td>171</td>\n",
       "      <td>171</td>\n",
       "    </tr>\n",
       "    <tr>\n",
       "      <th>Tues</th>\n",
       "      <td>8</td>\n",
       "      <td>9</td>\n",
       "      <td>11</td>\n",
       "      <td>163</td>\n",
       "      <td>163</td>\n",
       "    </tr>\n",
       "    <tr>\n",
       "      <th>Wed</th>\n",
       "      <td>5</td>\n",
       "      <td>15</td>\n",
       "      <td>0</td>\n",
       "      <td>175</td>\n",
       "      <td>175</td>\n",
       "    </tr>\n",
       "    <tr>\n",
       "      <th>Thur</th>\n",
       "      <td>16</td>\n",
       "      <td>1</td>\n",
       "      <td>12</td>\n",
       "      <td>126</td>\n",
       "      <td>126</td>\n",
       "    </tr>\n",
       "    <tr>\n",
       "      <th>Fri</th>\n",
       "      <td>7</td>\n",
       "      <td>13</td>\n",
       "      <td>6</td>\n",
       "      <td>183</td>\n",
       "      <td>183</td>\n",
       "    </tr>\n",
       "  </tbody>\n",
       "</table>\n",
       "</div>"
      ],
      "text/plain": [
       "      Butter  Cake  Milk  total_price  Total Price\n",
       "Mon        5    11    12          171          171\n",
       "Tues       8     9    11          163          163\n",
       "Wed        5    15     0          175          175\n",
       "Thur      16     1    12          126          126\n",
       "Fri        7    13     6          183          183"
      ]
     },
     "execution_count": 219,
     "metadata": {},
     "output_type": "execute_result"
    }
   ],
   "source": [
    "weekly_sales"
   ]
  },
  {
   "cell_type": "code",
   "execution_count": null,
   "id": "36a3526c",
   "metadata": {},
   "outputs": [],
   "source": []
  }
 ],
 "metadata": {
  "kernelspec": {
   "display_name": "Python 3",
   "language": "python",
   "name": "python3"
  },
  "language_info": {
   "codemirror_mode": {
    "name": "ipython",
    "version": 3
   },
   "file_extension": ".py",
   "mimetype": "text/x-python",
   "name": "python",
   "nbconvert_exporter": "python",
   "pygments_lexer": "ipython3",
   "version": "3.8.8"
  }
 },
 "nbformat": 4,
 "nbformat_minor": 5
}
